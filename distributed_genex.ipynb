{
 "cells": [
  {
   "cell_type": "markdown",
   "source": [
    "# Distributed Genex\n",
    "\n"
   ],
   "metadata": {
    "collapsed": false
   }
  },
  {
   "cell_type": "code",
   "execution_count": 10,
   "outputs": [
    {
     "name": "stdout",
     "text": [
      " Volume in drive D is DATA\n Volume Serial Number is EEF3-9804\n\n Directory of D:\\PycharmProjects\\Genex\n\n07/30/2019  04:15 PM    <DIR>          .\n07/30/2019  04:15 PM    <DIR>          ..\n07/30/2019  04:12 PM    <DIR>          .idea\n06/30/2019  02:00 AM            68,443 2013e_001_2_channels_02backs.csv\n07/17/2019  06:31 PM    <DIR>          archived\n07/30/2019  04:15 PM             1,155 distributed_genex.ipynb\n07/17/2019  06:31 PM             5,929 experiment.py\n07/17/2019  06:31 PM    <DIR>          genex\n07/17/2019  06:31 PM           306,976 queries.csv\n07/10/2019  02:13 AM               267 query_example.csv\n07/17/2019  06:31 PM            14,589 README.md\n06/30/2019  01:53 AM        24,216,801 SART2018.csv\n07/10/2019  11:22 AM         8,868,363 SART2018_HbO.csv\n07/10/2019  12:19 PM             1,243 test.py\n07/10/2019  09:30 PM         3,699,043 test_clusters.p\n07/10/2019  01:01 AM    <DIR>          venv\n07/30/2019  04:07 PM    <DIR>          venv36\n              10 File(s)     37,182,809 bytes\n               7 Dir(s)  605,167,235,072 bytes free\n"
     ],
     "output_type": "stream"
    }
   ],
   "source": [
    "%ls\n"
   ],
   "metadata": {
    "collapsed": false,
    "pycharm": {
     "name": "#%%\n",
     "is_executing": false
    }
   }
  }
 ],
 "metadata": {
  "language_info": {
   "codemirror_mode": {
    "name": "ipython",
    "version": 2
   },
   "file_extension": ".py",
   "mimetype": "text/x-python",
   "name": "python",
   "nbconvert_exporter": "python",
   "pygments_lexer": "ipython2",
   "version": "2.7.6"
  },
  "kernelspec": {
   "name": "python3",
   "language": "python",
   "display_name": "Python 3"
  },
  "pycharm": {
   "stem_cell": {
    "cell_type": "raw",
    "source": [],
    "metadata": {
     "collapsed": false
    }
   }
  }
 },
 "nbformat": 4,
 "nbformat_minor": 0
}