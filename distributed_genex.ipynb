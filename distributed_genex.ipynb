{
 "cells": [
  {
   "cell_type": "markdown",
   "source": [
    "# Distributed Genex\n",
    "This notebook implements redistributed Genex for faster and more reliable processing."
   ],
   "metadata": {
    "collapsed": false
   }
  },
  {
   "cell_type": "markdown",
   "source": [
    "## Get the input list\n",
    "Use the generate_source call from genex.preprocess to get our input list, which is a key-value pair with key being the\n",
    "features of the time series and the value is time series itself, or, the raw data.\n",
    "\n",
    "For now, we only take the first 50 time series to speed it up."
   ],
   "metadata": {
    "collapsed": false,
    "pycharm": {
     "name": "#%% md\n",
     "is_executing": false
    }
   }
  },
  {
   "cell_type": "code",
   "execution_count": 1,
   "outputs": [
    {
     "name": "stdout",
     "text": [
      "('101-SART-June2018-AS', 'target correct', 'Channel-1 HbO', '126468', '167986')\n('101-SART-June2018-AS', 'target correct', 'Channel-1 HbO', '274131', '315653')\n('101-SART-June2018-AS', 'target correct', 'Channel-1 HbO', '403678', '445179')\n('101-SART-June2018-AS', 'target correct', 'Channel-1 HbO', '600024', '641559')\n('101-SART-June2018-AS', 'target correct', 'Channel-1 HbO', '624914', '666433')\n('101-SART-June2018-AS', 'target correct', 'Channel-1 HbO', '631505', '673041')\n('101-SART-June2018-AS', 'target correct', 'Channel-1 HbO', '667507', '709026')\n('101-SART-June2018-AS', 'target correct', 'Channel-1 HbO', '777318', '818835')\n('101-SART-June2018-AS', 'target correct', 'Channel-1 HbO', '789029', '830533')\n('101-SART-June2018-AS', 'target correct', 'Channel-1 HbO', '794000', '835502')\n('101-SART-June2018-AS', 'target correct', 'Channel-1 HbO', '836659', '878161')\n('101-SART-June2018-AS', 'target correct', 'Channel-1 HbO', '854762', '896297')\n('101-SART-June2018-AS', 'target correct', 'Channel-1 HbO', '874549', '916082')\n('101-SART-June2018-AS', 'target correct', 'Channel-1 HbO', '1160267', '1201785')\n('101-SART-June2018-AS', 'target correct', 'Channel-1 HbO', '1170259', '1211772')\n('101-SART-June2018-AS', 'target correct', 'Channel-1 HbO', '1198054', '1239557')\n('101-SART-June2018-AS', 'target correct', 'Channel-1 HbO', '1253926', '1295428')\n('101-SART-June2018-AS', 'target correct', 'Channel-1 HbO', '1348722', '1390256')\n('101-SART-June2018-AS', 'target correct', 'Channel-1 HbO', '1465221', '1506756')\n('101-SART-June2018-AS', 'target correct', 'Channel-1 HbO', '1634008', '1675541')\n('101-SART-June2018-AS', 'target correct', 'Channel-1 HbO', '1765188', '1806689')\n('101-SART-June2018-AS', 'target correct', 'Channel-1 HbO', '1802842', '1844343')\n('101-SART-June2018-AS', 'target correct', 'Channel-1 HbO', '1894616', '1936118')\n('101-SART-June2018-AS', 'target correct', 'Channel-1 HbO', '1945018', '1986536')\n('101-SART-June2018-AS', 'target correct', 'Channel-1 HbO', '2023446', '2064946')\n('101-SART-June2018-AS', 'target incorrect', 'Channel-1 HbO', '70462', '111980')\n('101-SART-June2018-AS', 'target incorrect', 'Channel-1 HbO', '77201', '118719')\n('101-SART-June2018-AS', 'target incorrect', 'Channel-1 HbO', '85392', '126910')\n('101-SART-June2018-AS', 'target incorrect', 'Channel-1 HbO', '114823', '156341')\n('101-SART-June2018-AS', 'target incorrect', 'Channel-1 HbO', '185358', '226878')\n('101-SART-June2018-AS', 'target incorrect', 'Channel-1 HbO', '218064', '259593')\n('101-SART-June2018-AS', 'target incorrect', 'Channel-1 HbO', '234642', '276161')\n('101-SART-June2018-AS', 'target incorrect', 'Channel-1 HbO', '238028', '279546')\n('101-SART-June2018-AS', 'target incorrect', 'Channel-1 HbO', '429897', '471421')\n('101-SART-June2018-AS', 'target incorrect', 'Channel-1 HbO', '514771', '556289')\n('101-SART-June2018-AS', 'target incorrect', 'Channel-1 HbO', '578385', '619902')\n('101-SART-June2018-AS', 'target incorrect', 'Channel-1 HbO', '593334', '634886')\n('101-SART-June2018-AS', 'target incorrect', 'Channel-1 HbO', '614856', '656403')\n('101-SART-June2018-AS', 'target incorrect', 'Channel-1 HbO', '698922', '740442')\n('101-SART-June2018-AS', 'target incorrect', 'Channel-1 HbO', '744519', '786054')\n('101-SART-June2018-AS', 'target incorrect', 'Channel-1 HbO', '825114', '866616')\n('101-SART-June2018-AS', 'target incorrect', 'Channel-1 HbO', '965957', '1007475')\n('101-SART-June2018-AS', 'target incorrect', 'Channel-1 HbO', '1059117', '1100633')\n('101-SART-June2018-AS', 'target incorrect', 'Channel-1 HbO', '1221043', '1262562')\n('101-SART-June2018-AS', 'target incorrect', 'Channel-1 HbO', '1262152', '1303653')\n('101-SART-June2018-AS', 'target incorrect', 'Channel-1 HbO', '1290029', '1331547')\n('101-SART-June2018-AS', 'target incorrect', 'Channel-1 HbO', '1394668', '1436202')\n('101-SART-June2018-AS', 'target incorrect', 'Channel-1 HbO', '1453544', '1495061')\n('101-SART-June2018-AS', 'target incorrect', 'Channel-1 HbO', '1458631', '1500134')\n('101-SART-June2018-AS', 'target incorrect', 'Channel-1 HbO', '1524180', '1565699')\n"
     ],
     "output_type": "stream"
    }
   ],
   "source": [
    "from genex.parse import generate_source\n",
    "fn = 'SART2018_HbO.csv'\n",
    "\n",
    "input_list = generate_source(fn, feature_num=5)\n",
    "input_list = input_list[:50]\n",
    "\n",
    "# print the keys of the  input_list\n",
    "for time_series in input_list: print(time_series[0])"
   ],
   "metadata": {
    "collapsed": false,
    "pycharm": {
     "name": "#%%\n",
     "is_executing": false
    }
   }
  },
  {
   "cell_type": "markdown",
   "source": [
    "## Normalization\n",
    "Globally min-max normalize the input-list"
   ],
   "metadata": {
    "collapsed": false,
    "pycharm": {
     "name": "#%% md\n"
    }
   }
  },
  {
   "cell_type": "code",
   "execution_count": 2,
   "outputs": [],
   "source": [
    "from genex.preprocess import min_max_normalize\n",
    "normalized_input_list, global_max, global_min = min_max_normalize(input_list)"
   ],
   "metadata": {
    "collapsed": false,
    "pycharm": {
     "name": "#%%\n",
     "is_executing": false
    }
   }
  },
  {
   "cell_type": "markdown",
   "source": [
    "## Configure Spark\n",
    "Create the spark context with which the input_list will be processed, setting the number of CPU (cores), driver memory\n",
    "and max result size. Those configurations depends on the specs on the cluster."
   ],
   "metadata": {
    "collapsed": false,
    "pycharm": {
     "name": "#%% md\n"
    }
   }
  },
  {
   "cell_type": "code",
   "execution_count": 3,
   "outputs": [],
   "source": [
    "from pyspark import SparkContext, SparkConf\n",
    "\n",
    "num_cores = 32\n",
    "\n",
    "conf = SparkConf(). \\\n",
    "    setMaster(\"local[\" + str(num_cores) + \"]\"). \\\n",
    "    setAppName(\"Genex\").set('spark.driver.memory', '31G'). \\\n",
    "    set('spark.driver.maxResultSize', '31G')\n",
    "sc = SparkContext(conf=conf)"
   ],
   "metadata": {
    "collapsed": false,
    "pycharm": {
     "name": "#%%\n",
     "is_executing": false
    }
   }
  },
  {
   "cell_type": "markdown",
   "source": [
    "## Distribute the normalized input list\n",
    "distribute the input list onto the works, each worker will have two partitions"
   ],
   "metadata": {
    "collapsed": false,
    "pycharm": {
     "name": "#%% md\n"
    }
   }
  },
  {
   "cell_type": "code",
   "execution_count": 5,
   "outputs": [],
   "source": [
    "input_rdd = sc.parallelize(normalized_input_list, numSlices= num_cores)\n",
    "partition_input = input_rdd.glom().collect()"
   ],
   "metadata": {
    "collapsed": false,
    "pycharm": {
     "name": "#%% \n",
     "is_executing": false
    }
   }
  },
  {
   "cell_type": "markdown",
   "source": [
    "## Grouping the data\n",
    "We group the time series on each worker. Setting loi to be 5 so to \n",
    "ignore sequences with a length less than 120."
   ],
   "metadata": {
    "collapsed": false,
    "pycharm": {
     "name": "#%% md\n"
    }
   }
  },
  {
   "cell_type": "code",
   "execution_count": 6,
   "outputs": [],
   "source": [
    "from genex.preprocess import all_sublists_with_id_length\n",
    "group_rdd = input_rdd.flatMap(\n",
    "    lambda x: all_sublists_with_id_length(x, [120]))\n",
    "partition_group = group_rdd.glom().collect()"
   ],
   "metadata": {
    "collapsed": false,
    "pycharm": {
     "name": "#%%\n",
     "is_executing": false
    }
   }
  },
  {
   "cell_type": "markdown",
   "source": [
    "# Cluster the data with Gcluster\n",
    "Now the time series on each core has been broken down into subsequence. We will proceed\n",
    "with node-wise clustering with the Genex algorithm.\n",
    "\n",
    "Note that this implementation uses a different clustering than the previous implementation.\n",
    "\n",
    "At the end of the operation, we cache the result so that once computed, the cluster_rbb would be retained in the pre-set\n"
   ],
   "metadata": {
    "collapsed": false
   }
  },
  {
   "cell_type": "code",
   "execution_count": null,
   "outputs": [],
   "source": [
    "from genex.cluster import filter_cluster\n",
    "\n",
    "cluster_rdd = group_rdd.mapPartitions(lambda x: filter_cluster(groups=x, st=0.05, log_level=1), preservesPartitioning=False).cache()\n",
    "cluster_partition = cluster_rdd.glom().collect()"
   ],
   "metadata": {
    "collapsed": false,
    "pycharm": {
     "name": "#%%\n"
    }
   }
  },
  {
   "cell_type": "markdown",
   "source": [],
   "metadata": {
    "collapsed": false
   }
  },
  {
   "cell_type": "code",
   "execution_count": null,
   "outputs": [],
   "source": [],
   "metadata": {
    "collapsed": false,
    "pycharm": {
     "name": "#%%\n"
    }
   }
  }
 ],
 "metadata": {
  "language_info": {
   "codemirror_mode": {
    "name": "ipython",
    "version": 2
   },
   "file_extension": ".py",
   "mimetype": "text/x-python",
   "name": "python",
   "nbconvert_exporter": "python",
   "pygments_lexer": "ipython2",
   "version": "2.7.6"
  },
  "kernelspec": {
   "name": "python3",
   "language": "python",
   "display_name": "Python 3"
  },
  "pycharm": {
   "stem_cell": {
    "cell_type": "raw",
    "source": [],
    "metadata": {
     "collapsed": false
    }
   }
  }
 },
 "nbformat": 4,
 "nbformat_minor": 0
}